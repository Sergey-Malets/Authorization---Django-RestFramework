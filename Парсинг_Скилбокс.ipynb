{
  "nbformat": 4,
  "nbformat_minor": 0,
  "metadata": {
    "colab": {
      "provenance": [],
      "collapsed_sections": [],
      "authorship_tag": "ABX9TyNnrPABA/MPN0eD47B5/CN1",
      "include_colab_link": true
    },
    "kernelspec": {
      "name": "python3",
      "display_name": "Python 3"
    },
    "language_info": {
      "name": "python"
    }
  },
  "cells": [
    {
      "cell_type": "markdown",
      "metadata": {
        "id": "view-in-github",
        "colab_type": "text"
      },
      "source": [
        "<a href=\"https://colab.research.google.com/github/Sergey-Malets/Authorization---Django-RestFramework/blob/master/%D0%9F%D0%B0%D1%80%D1%81%D0%B8%D0%BD%D0%B3_%D0%A1%D0%BA%D0%B8%D0%BB%D0%B1%D0%BE%D0%BA%D1%81.ipynb\" target=\"_parent\"><img src=\"https://colab.research.google.com/assets/colab-badge.svg\" alt=\"Open In Colab\"/></a>"
      ]
    },
    {
      "cell_type": "code",
      "source": [
        "# ЗАДАНИЕ: Дописать код\n",
        "\n",
        "import json \n",
        "\n",
        "datafile = open(\"/content/webinars.json\", \"r\", encoding='utf-8') # Открыть файл\n",
        "data = json.load(datafile)# Прочитать файл в формате json\n",
        "\n",
        "\n",
        "# Цикл For / list comprehension\n",
        "# for = \"для каждого элемента в списке\"\n",
        "# Надо назвать элемент списка\n",
        "# Для каждого вебинара в списке вебинаров...\n",
        "# webinar[\"speaker\"] - обращение к полю \"speaker\" внутри объекта\n",
        "[webinar[\"speaker\"] for webinar in data]\n",
        "\n",
        "\n",
        "# Тоже самое иначе\n",
        "# for webinar in data:\n",
        "#     print(webinar[\"speaker\"])"
      ],
      "metadata": {
        "id": "Dr1vINNK3ZeL",
        "colab": {
          "base_uri": "https://localhost:8080/"
        },
        "outputId": "c92dde32-541e-4ef4-be31-8ac3952b2264"
      },
      "execution_count": 7,
      "outputs": [
        {
          "output_type": "execute_result",
          "data": {
            "text/plain": [
              "['Даниил Пилипенко', 'Мишаня', 'Влад Хаханов']"
            ]
          },
          "metadata": {},
          "execution_count": 7
        }
      ]
    },
    {
      "cell_type": "code",
      "source": [
        "#pip install beautifulsoup4\n",
        "from bs4 import BeautifulSoup\n",
        "\n",
        "htmlfile = open('/content/skillbox.html', 'r', encoding='utf-8')\n",
        "code = htmlfile.read()\n",
        "soup = BeautifulSoup(code, 'html.parser') #Парсинг html-кода \n",
        "#CSS селекторы: способ найти что-то на ХТМЛ странице\n",
        "# soup.findAll('СЕЛЕКТОР')\n",
        "# soup.findAll('button') - найти все кнопки\n",
        "links = soup.findAll(\"a\") # позволяет найти все ссылки\n",
        "\n",
        "#link.string - строковое содержимое\n",
        "#.strip() - удалить пробельные символы(перенос строк и пробелов)\n",
        "[link.string.strip() for link in links]\n",
        "\n",
        "[link['href'] for link in links] #вывести только ссылки\n",
        "\n",
        "\n"
      ],
      "metadata": {
        "id": "TylzKT0hNX-p",
        "colab": {
          "base_uri": "https://localhost:8080/"
        },
        "outputId": "4880b853-bad6-474e-811b-7e1db9175ede"
      },
      "execution_count": 8,
      "outputs": [
        {
          "output_type": "execute_result",
          "data": {
            "text/plain": [
              "['https://skillbox.ru/code/',\n",
              " 'https://skillbox.ru/design/',\n",
              " 'https://skillbox.ru/marketing/',\n",
              " 'https://skillbox.ru/management/',\n",
              " 'https://skillbox.ru/games/',\n",
              " 'https://skillbox.ru/multimedia/',\n",
              " 'https://skillbox.ru/psychology/',\n",
              " 'https://skillbox.ru/general-education/',\n",
              " 'https://skillbox.ru/engineering/',\n",
              " 'https://skillbox.ru/english/',\n",
              " 'https://skillbox.ru/other/']"
            ]
          },
          "metadata": {},
          "execution_count": 8
        }
      ]
    },
    {
      "cell_type": "code",
      "source": [
        "import requests #позаоляет делать HTTP запросы\n",
        "# делаем запрос => получаем от сайта ответ(HTML)\n",
        "\n",
        "# HTTP GET - запрос на получение данных\n",
        "skillbox = requests.get('https://live.skillbox.ru/')\n"
      ],
      "metadata": {
        "id": "bUtcOt8uUFyu"
      },
      "execution_count": 9,
      "outputs": []
    },
    {
      "cell_type": "code",
      "source": [
        "print(skillbox.status_code)\n",
        "# 200 - all ok\n",
        "# 400 - ощибка запроса/клиента\n",
        "# 500 - ощибка сервера\n",
        "\n"
      ],
      "metadata": {
        "colab": {
          "base_uri": "https://localhost:8080/"
        },
        "id": "WHzVyZBmWl50",
        "outputId": "7275bc45-dfa3-4b6a-a914-220c530c4acf"
      },
      "execution_count": 10,
      "outputs": [
        {
          "output_type": "stream",
          "name": "stdout",
          "text": [
            "200\n"
          ]
        }
      ]
    },
    {
      "cell_type": "code",
      "source": [
        "skillsoup = BeautifulSoup(skillbox.content, 'html.parser')"
      ],
      "metadata": {
        "id": "RU84l4n7XIHk"
      },
      "execution_count": 11,
      "outputs": []
    },
    {
      "cell_type": "code",
      "source": [
        "webinars = skillsoup.findAll(class_= 'webinar-card__title')\n",
        "[webinar.string.strip() for webinar in webinars]"
      ],
      "metadata": {
        "id": "RYeVcA2uXwN0",
        "colab": {
          "base_uri": "https://localhost:8080/"
        },
        "outputId": "0fd7850b-cd39-4862-c9c3-894f5ac8e1c6"
      },
      "execution_count": 12,
      "outputs": [
        {
          "output_type": "execute_result",
          "data": {
            "text/plain": [
              "['Web Scraping: парсим данные веб-сайтов с помощью Python',\n",
              " 'Кто такой тестировщик и чем он занимается?',\n",
              " 'Кто делает игры? Обзор профессий в геймдеве',\n",
              " '«Умные» и сводные таблицы — простые, но очень полезные инструменты',\n",
              " 'Анализ данных в Data Science: подводим итоги',\n",
              " 'Готовимся начать карьеру',\n",
              " 'Карьера в цифровом дизайне: подводим итоги',\n",
              " 'Анализ данных в Data Science: техники исследования',\n",
              " 'Узнаём о профессии больше',\n",
              " 'Пробуем себя в разных видах дизайна на практике',\n",
              " 'Анализ данных в Data Science: знакомимся с Python',\n",
              " 'Знакомимся с языками на практике',\n",
              " 'Как найти себя в дизайне в 2022 году',\n",
              " '«Игра на Unity»: подводим итоги',\n",
              " 'Пишем интерфейс мессенджера на Python',\n",
              " '«Игра на Unity»: создаём персонажей, препятствия и считаем очки',\n",
              " 'Настраиваем протокол TCP для мессенджера',\n",
              " '«Игра на Unity»: создаём сцену и настраиваем камеру',\n",
              " 'Знакомимся с Python',\n",
              " '«Игра на Unity»: профессии в геймдеве и этапы разработки',\n",
              " 'Пишем интерфейс мессенджера на Python',\n",
              " 'Парсер на Python за 3 дня: последние штрихи и подведение итогов',\n",
              " 'Ревью коммерческих иллюстраций',\n",
              " 'Интернет-маркетинг 2022: топ-6 непотопляемых профессий для старта. Подводим итоги',\n",
              " 'Настраиваем протокол TCP для мессенджера',\n",
              " 'Парсер на Python: добываем данные с помощью Selenium',\n",
              " 'Продолжаем рисовать персонажа для коммерческого проекта',\n",
              " 'Собираем первый кейс в портфолио',\n",
              " 'Знакомимся с Python',\n",
              " 'Web Scraping: парсим данные веб-сайтов с помощью Python',\n",
              " 'Как превратить рисунки в деньги',\n",
              " 'Знакомимся с профессиями в интернет-маркетинге',\n",
              " 'Просто о сложной математике в Data Science',\n",
              " 'Придумываем игру за 3 дня: подводим итоги',\n",
              " 'Программируем на Java: подводим итоги',\n",
              " 'Погружаемся в машинное обучение']"
            ]
          },
          "metadata": {},
          "execution_count": 12
        }
      ]
    },
    {
      "cell_type": "code",
      "source": [
        "#пробуем получить всю информацию о вебинарах\n",
        "items = skillsoup.findAll(class_= 'webinars__item') #список карточек вебинаров\n",
        "\n",
        "for webinar in items:\n",
        "  #у конкретной карточки вебинара \n",
        "  title = webinar.find(class_='webinar-card__title').string.strip() #заголовок конкретного вебинара\n",
        "  date = webinar.find(class_='webinar-card__date').string.strip()#дата конкретного вебинара\n",
        "  print(f'Вебинар {title} прошел {date}')"
      ],
      "metadata": {
        "id": "243V4lN2Y70k",
        "colab": {
          "base_uri": "https://localhost:8080/"
        },
        "outputId": "0959c58e-1f7d-4ab3-f1b5-e7e27a6d2aa3"
      },
      "execution_count": 13,
      "outputs": [
        {
          "output_type": "stream",
          "name": "stdout",
          "text": [
            "Вебинар Web Scraping: парсим данные веб-сайтов с помощью Python прошел 10.10.2022\n",
            "Вебинар Кто такой тестировщик и чем он занимается? прошел 10.10.2022\n",
            "Вебинар Кто делает игры? Обзор профессий в геймдеве прошел 10.10.2022\n",
            "Вебинар «Умные» и сводные таблицы — простые, но очень полезные инструменты прошел 10.10.2022\n",
            "Вебинар Анализ данных в Data Science: подводим итоги прошел 08.10.2022\n",
            "Вебинар Готовимся начать карьеру прошел 08.10.2022\n",
            "Вебинар Карьера в цифровом дизайне: подводим итоги прошел 08.10.2022\n",
            "Вебинар Анализ данных в Data Science: техники исследования прошел 07.10.2022\n",
            "Вебинар Узнаём о профессии больше прошел 07.10.2022\n",
            "Вебинар Пробуем себя в разных видах дизайна на практике прошел 07.10.2022\n",
            "Вебинар Анализ данных в Data Science: знакомимся с Python прошел 06.10.2022\n",
            "Вебинар Знакомимся с языками на практике прошел 06.10.2022\n",
            "Вебинар Как найти себя в дизайне в 2022 году прошел 06.10.2022\n",
            "Вебинар «Игра на Unity»: подводим итоги прошел 05.10.2022\n",
            "Вебинар Пишем интерфейс мессенджера на Python прошел 05.10.2022\n",
            "Вебинар «Игра на Unity»: создаём персонажей, препятствия и считаем очки прошел 04.10.2022\n",
            "Вебинар Настраиваем протокол TCP для мессенджера прошел 04.10.2022\n",
            "Вебинар «Игра на Unity»: создаём сцену и настраиваем камеру прошел 03.10.2022\n",
            "Вебинар Знакомимся с Python прошел 03.10.2022\n",
            "Вебинар «Игра на Unity»: профессии в геймдеве и этапы разработки прошел 03.10.2022\n",
            "Вебинар Пишем интерфейс мессенджера на Python прошел 01.10.2022\n",
            "Вебинар Парсер на Python за 3 дня: последние штрихи и подведение итогов прошел 01.10.2022\n",
            "Вебинар Ревью коммерческих иллюстраций прошел 01.10.2022\n",
            "Вебинар Интернет-маркетинг 2022: топ-6 непотопляемых профессий для старта. Подводим итоги прошел 01.10.2022\n",
            "Вебинар Настраиваем протокол TCP для мессенджера прошел 30.09.2022\n",
            "Вебинар Парсер на Python: добываем данные с помощью Selenium прошел 30.09.2022\n",
            "Вебинар Продолжаем рисовать персонажа для коммерческого проекта прошел 30.09.2022\n",
            "Вебинар Собираем первый кейс в портфолио прошел 30.09.2022\n",
            "Вебинар Знакомимся с Python прошел 29.09.2022\n",
            "Вебинар Web Scraping: парсим данные веб-сайтов с помощью Python прошел 29.09.2022\n",
            "Вебинар Как превратить рисунки в деньги прошел 29.09.2022\n",
            "Вебинар Знакомимся с профессиями в интернет-маркетинге прошел 29.09.2022\n",
            "Вебинар Просто о сложной математике в Data Science прошел 28.09.2022\n",
            "Вебинар Придумываем игру за 3 дня: подводим итоги прошел 28.09.2022\n",
            "Вебинар Программируем на Java: подводим итоги прошел 28.09.2022\n",
            "Вебинар Погружаемся в машинное обучение прошел 27.09.2022\n"
          ]
        }
      ]
    },
    {
      "cell_type": "code",
      "source": [
        "!git init"
      ],
      "metadata": {
        "colab": {
          "base_uri": "https://localhost:8080/"
        },
        "id": "A5wgIvgOV7kk",
        "outputId": "95619a33-b830-4b69-da80-5327088f4b31"
      },
      "execution_count": 34,
      "outputs": [
        {
          "output_type": "stream",
          "name": "stdout",
          "text": [
            "Reinitialized existing Git repository in /content/parsing_vebinar/.git/\n"
          ]
        }
      ]
    },
    {
      "cell_type": "code",
      "source": [
        "!git config --global user.email \"maletssergey@gmail.com\"\n",
        "!git config --global user.name \"Sergey-Malets\""
      ],
      "metadata": {
        "id": "1ezHwIACWeyJ"
      },
      "execution_count": 35,
      "outputs": []
    },
    {
      "cell_type": "code",
      "source": [
        "username = 'Sergey-Malets'\n",
        "repo = 'parsing_vebinar'"
      ],
      "metadata": {
        "id": "rPPm6iCygzto"
      },
      "execution_count": 36,
      "outputs": []
    },
    {
      "cell_type": "code",
      "source": [
        "#!git commit -m \"first commit\" "
      ],
      "metadata": {
        "colab": {
          "base_uri": "https://localhost:8080/"
        },
        "id": "coAkGAf3XUcb",
        "outputId": "4b125198-b260-4c1f-9f76-892c11bc5c10"
      },
      "execution_count": 19,
      "outputs": [
        {
          "output_type": "stream",
          "name": "stdout",
          "text": [
            "On branch master\n",
            "\n",
            "Initial commit\n",
            "\n",
            "Untracked files:\n",
            "\t\u001b[31m.config/\u001b[m\n",
            "\t\u001b[31mREADME.md\u001b[m\n",
            "\t\u001b[31msample_data/\u001b[m\n",
            "\t\u001b[31mskillbox.html\u001b[m\n",
            "\t\u001b[31mwebinars.json\u001b[m\n",
            "\n",
            "nothing added to commit but untracked files present\n"
          ]
        }
      ]
    },
    {
      "cell_type": "code",
      "source": [
        "#!git branch -M main"
      ],
      "metadata": {
        "colab": {
          "base_uri": "https://localhost:8080/"
        },
        "id": "MbOMORLDXVjg",
        "outputId": "4523a60c-43fd-4116-e59b-83274c5110b7"
      },
      "execution_count": 17,
      "outputs": [
        {
          "output_type": "stream",
          "name": "stdout",
          "text": [
            "error: refname refs/heads/master not found\n",
            "fatal: Branch rename failed\n"
          ]
        }
      ]
    },
    {
      "cell_type": "code",
      "source": [
        "#!echo \"# parsing_vebinar\" >> README.md "
      ],
      "metadata": {
        "id": "PRBqFMZWY6gR"
      },
      "execution_count": 18,
      "outputs": []
    },
    {
      "cell_type": "code",
      "source": [
        "!git clone https://github.com/Sergey-Malets/parsing_vebinar"
      ],
      "metadata": {
        "colab": {
          "base_uri": "https://localhost:8080/"
        },
        "id": "MrG79xjoZDCx",
        "outputId": "a47511b5-1045-4187-f5c1-022f533aeeb5"
      },
      "execution_count": 20,
      "outputs": [
        {
          "output_type": "stream",
          "name": "stdout",
          "text": [
            "Cloning into 'parsing_vebinar'...\n",
            "warning: You appear to have cloned an empty repository.\n"
          ]
        }
      ]
    },
    {
      "cell_type": "code",
      "source": [
        "%cd {repo} #переход в папку которую скопировал с гитхаб"
      ],
      "metadata": {
        "colab": {
          "base_uri": "https://localhost:8080/"
        },
        "id": "mOrxFWTE3n5i",
        "outputId": "5b6b03d0-7cad-434a-eb0e-9f40aa0fdd65"
      },
      "execution_count": 37,
      "outputs": [
        {
          "output_type": "stream",
          "name": "stdout",
          "text": [
            "[Errno 2] No such file or directory: 'parsing_vebinar #переход в папку которую скопировал с гитхаб'\n",
            "/content/parsing_vebinar\n"
          ]
        }
      ]
    },
    {
      "cell_type": "code",
      "source": [
        "%ls #посмотреть вложения данной папки"
      ],
      "metadata": {
        "colab": {
          "base_uri": "https://localhost:8080/"
        },
        "id": "vT2o-dNH4Byt",
        "outputId": "4396dc6c-e239-4335-dc4e-6389eff8bd44"
      },
      "execution_count": 38,
      "outputs": [
        {
          "output_type": "stream",
          "name": "stdout",
          "text": [
            "skillbox.html  webinars.json  Парсинг_Скилбокс.ipynb\n"
          ]
        }
      ]
    },
    {
      "cell_type": "code",
      "source": [
        "!mv /content/Парсинг_Скилбокс.ipynb /content/parsing_vebinar \n",
        "#перемещает из одного пути в любой другой\n"
      ],
      "metadata": {
        "id": "24Pdwhpz4Zz4"
      },
      "execution_count": 25,
      "outputs": []
    },
    {
      "cell_type": "code",
      "source": [
        "!git status"
      ],
      "metadata": {
        "colab": {
          "base_uri": "https://localhost:8080/"
        },
        "id": "_S37EyaY6KSV",
        "outputId": "13643d81-278f-4835-c65f-fc9d195b4912"
      },
      "execution_count": 39,
      "outputs": [
        {
          "output_type": "stream",
          "name": "stdout",
          "text": [
            "On branch master\n",
            "Your branch is based on 'origin/master', but the upstream is gone.\n",
            "  (use \"git branch --unset-upstream\" to fixup)\n",
            "\n",
            "nothing to commit, working tree clean\n"
          ]
        }
      ]
    },
    {
      "cell_type": "code",
      "source": [
        "!git add --all"
      ],
      "metadata": {
        "id": "d0umRjgp6W-I"
      },
      "execution_count": 40,
      "outputs": []
    },
    {
      "cell_type": "code",
      "source": [
        "!git commit -a -m \"урок парсинга и работа с git в гугл коллаб\""
      ],
      "metadata": {
        "colab": {
          "base_uri": "https://localhost:8080/"
        },
        "id": "OxzMHBoE6m08",
        "outputId": "b6cd2ba6-d518-4ef7-ab92-95e5a0ca3dfd"
      },
      "execution_count": 41,
      "outputs": [
        {
          "output_type": "stream",
          "name": "stdout",
          "text": [
            "On branch master\n",
            "Your branch is based on 'origin/master', but the upstream is gone.\n",
            "  (use \"git branch --unset-upstream\" to fixup)\n",
            "\n",
            "nothing to commit, working tree clean\n"
          ]
        }
      ]
    },
    {
      "cell_type": "code",
      "source": [
        "!git remote -v"
      ],
      "metadata": {
        "colab": {
          "base_uri": "https://localhost:8080/"
        },
        "id": "Tw9mIumr7PWE",
        "outputId": "b92d1cf1-1688-4b6e-dd27-98b7a5be4dd7"
      },
      "execution_count": 42,
      "outputs": [
        {
          "output_type": "stream",
          "name": "stdout",
          "text": [
            "origin\thttps://github.com/Sergey-Malets/parsing_vebinar (fetch)\n",
            "origin\thttps://github.com/Sergey-Malets/parsing_vebinar (push)\n"
          ]
        }
      ]
    },
    {
      "cell_type": "code",
      "source": [
        "!git push --set-upstream origin master"
      ],
      "metadata": {
        "colab": {
          "base_uri": "https://localhost:8080/"
        },
        "id": "8kJSUZe27mwv",
        "outputId": "796aa0a4-1d56-494d-be74-2979e340a600"
      },
      "execution_count": 47,
      "outputs": [
        {
          "output_type": "stream",
          "name": "stdout",
          "text": [
            "fatal: could not read Username for 'https://github.com': No such device or address\n"
          ]
        }
      ]
    },
    {
      "cell_type": "code",
      "source": [
        "!git branch --unset-upstream"
      ],
      "metadata": {
        "id": "4dju0xH87zzu"
      },
      "execution_count": 44,
      "outputs": []
    },
    {
      "cell_type": "code",
      "source": [],
      "metadata": {
        "id": "4JOFdAqSCH-O"
      },
      "execution_count": null,
      "outputs": []
    }
  ]
}